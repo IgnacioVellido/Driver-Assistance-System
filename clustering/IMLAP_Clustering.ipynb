{
  "nbformat": 4,
  "nbformat_minor": 0,
  "metadata": {
    "colab": {
      "name": "IMLAP-Clustering.ipynb",
      "provenance": [],
      "collapsed_sections": []
    },
    "kernelspec": {
      "name": "python3",
      "display_name": "Python 3"
    },
    "language_info": {
      "name": "python"
    }
  },
  "cells": [
    {
      "cell_type": "code",
      "metadata": {
        "colab": {
          "base_uri": "https://localhost:8080/"
        },
        "id": "8eRyUIsfGk4r",
        "outputId": "c34d5d03-cacf-40a0-fba9-dd74fa3b24ad"
      },
      "source": [
        "# Update gensim to last version\n",
        "!pip install gensim --upgrade"
      ],
      "execution_count": 4,
      "outputs": [
        {
          "output_type": "stream",
          "name": "stdout",
          "text": [
            "Requirement already satisfied: gensim in /usr/local/lib/python3.7/dist-packages (4.1.2)\n",
            "Requirement already satisfied: smart-open>=1.8.1 in /usr/local/lib/python3.7/dist-packages (from gensim) (5.2.1)\n",
            "Requirement already satisfied: numpy>=1.17.0 in /usr/local/lib/python3.7/dist-packages (from gensim) (1.19.5)\n",
            "Requirement already satisfied: scipy>=0.18.1 in /usr/local/lib/python3.7/dist-packages (from gensim) (1.4.1)\n"
          ]
        }
      ]
    },
    {
      "cell_type": "markdown",
      "metadata": {
        "id": "F0Z0AdaD8G2b"
      },
      "source": [
        "Objective: Find behaviour patterns in driver activities via clustering. (Manually) Classify this patterns to help recognize common faults while driving.\n",
        "\n",
        "Example: Frequently missing B_T3 after a B_T2, making the hole sequence illegal.\n",
        "\n",
        "Things worth considering:\n",
        "- Variable length sequences.\n",
        "- Activity representation. Possibilities:\n",
        "  - activity, daytype, sequence, breaktype, token, legal -> [2,0,1,0,1]\n",
        "  - Not sure if we should consider duration. In that case, should be normalized?\n",
        "    - Maybe not because we are keeping token, and thus there would be redundant information\n",
        "- Sequence representation. Possibilities:\n",
        "  - List of activities (should span a day at most)\n",
        "  - One activity at a time\n",
        "  - Just one Sequence\n",
        "- Distance function depends on the two previous points. Possibilities:\n",
        "  - Substract duration and for the rest of variables only consider if they are the same. Probably different weights, as legal is more valuable.\n",
        "- Categorical variables. We need to be careful with the distance function\n",
        "\n",
        "---\n",
        "\n",
        "Possible method:\n",
        "1. Coding activities as word in a list representation\n",
        "2. Group activities as sentences according to the Sequence column\n",
        "3. Group sentences as documents, one for each driver\n",
        "4. Apply sentence clustering or topic modelling (LDA?)"
      ]
    },
    {
      "cell_type": "code",
      "metadata": {
        "id": "kei6JFbc8ALU"
      },
      "source": [
        "import numpy as np\n",
        "import pandas as pd\n",
        "import matplotlib.pyplot as plt\n",
        "\n",
        "from sklearn.preprocessing import OrdinalEncoder\n",
        "\n",
        "from gensim.corpora.dictionary import Dictionary\n",
        "from gensim.models.tfidfmodel import TfidfModel\n",
        "from gensim.matutils import corpus2dense, corpus2csc\n",
        "\n",
        "from gensim.models.doc2vec import Doc2Vec, TaggedDocument\n",
        "\n",
        "from sklearn.cluster import KMeans"
      ],
      "execution_count": 5,
      "outputs": []
    },
    {
      "cell_type": "code",
      "metadata": {
        "colab": {
          "base_uri": "https://localhost:8080/",
          "height": 419
        },
        "id": "cLEp298XMQ31",
        "outputId": "a80b6cc4-4a0b-43a7-8bfc-eeaf0e105345"
      },
      "source": [
        "#########################################################################\n",
        "# Load data\n",
        "#########################################################################\n",
        "data_path = \"./combined-log.csv\"\n",
        "df = pd.read_csv(data_path, sep=\"\\t\",)\n",
        "\n",
        "# To timestamp format\n",
        "df.DateTimeStart = pd.to_datetime(df.DateTimeStart)\n",
        "df.DateTimeEnd = pd.to_datetime(df.DateTimeEnd)\n",
        "\n",
        "# Rename column\n",
        "df = df_original = df.rename(columns={\"#Driver\":\"Driver\", \"Duration(min)\":\"Duration\"})\n",
        "\n",
        "\n",
        "# To numerical\n",
        "df.Legal = df.Legal.map({\"yes\": 1, \"no\": 0}) # Not sure if [-1,1] is better\n",
        "\n",
        "# Drop columns\n",
        "df = df.drop(columns=['Duration', 'ZenoInfo', \"DateTimeStart\", \"DateTimeEnd\", 'Week'])\n",
        "\n",
        "df"
      ],
      "execution_count": 6,
      "outputs": [
        {
          "output_type": "execute_result",
          "data": {
            "text/html": [
              "<div>\n",
              "<style scoped>\n",
              "    .dataframe tbody tr th:only-of-type {\n",
              "        vertical-align: middle;\n",
              "    }\n",
              "\n",
              "    .dataframe tbody tr th {\n",
              "        vertical-align: top;\n",
              "    }\n",
              "\n",
              "    .dataframe thead th {\n",
              "        text-align: right;\n",
              "    }\n",
              "</style>\n",
              "<table border=\"1\" class=\"dataframe\">\n",
              "  <thead>\n",
              "    <tr style=\"text-align: right;\">\n",
              "      <th></th>\n",
              "      <th>Driver</th>\n",
              "      <th>Activity</th>\n",
              "      <th>Day</th>\n",
              "      <th>DayType</th>\n",
              "      <th>Sequence</th>\n",
              "      <th>BreakType</th>\n",
              "      <th>Token</th>\n",
              "      <th>Legal</th>\n",
              "    </tr>\n",
              "  </thead>\n",
              "  <tbody>\n",
              "    <tr>\n",
              "      <th>0</th>\n",
              "      <td>driver1</td>\n",
              "      <td>Break</td>\n",
              "      <td>1.0</td>\n",
              "      <td>ndd</td>\n",
              "      <td>first</td>\n",
              "      <td>split_1</td>\n",
              "      <td>B_T0</td>\n",
              "      <td>1</td>\n",
              "    </tr>\n",
              "    <tr>\n",
              "      <th>1</th>\n",
              "      <td>driver1</td>\n",
              "      <td>Driving</td>\n",
              "      <td>1.0</td>\n",
              "      <td>ndd</td>\n",
              "      <td>first</td>\n",
              "      <td>split_1</td>\n",
              "      <td>A</td>\n",
              "      <td>1</td>\n",
              "    </tr>\n",
              "    <tr>\n",
              "      <th>2</th>\n",
              "      <td>driver1</td>\n",
              "      <td>Other</td>\n",
              "      <td>1.0</td>\n",
              "      <td>ndd</td>\n",
              "      <td>first</td>\n",
              "      <td>split_1</td>\n",
              "      <td>A</td>\n",
              "      <td>1</td>\n",
              "    </tr>\n",
              "    <tr>\n",
              "      <th>3</th>\n",
              "      <td>driver1</td>\n",
              "      <td>Driving</td>\n",
              "      <td>1.0</td>\n",
              "      <td>ndd</td>\n",
              "      <td>first</td>\n",
              "      <td>split_1</td>\n",
              "      <td>A</td>\n",
              "      <td>1</td>\n",
              "    </tr>\n",
              "    <tr>\n",
              "      <th>4</th>\n",
              "      <td>driver1</td>\n",
              "      <td>Other</td>\n",
              "      <td>1.0</td>\n",
              "      <td>ndd</td>\n",
              "      <td>first</td>\n",
              "      <td>split_1</td>\n",
              "      <td>A</td>\n",
              "      <td>1</td>\n",
              "    </tr>\n",
              "    <tr>\n",
              "      <th>...</th>\n",
              "      <td>...</td>\n",
              "      <td>...</td>\n",
              "      <td>...</td>\n",
              "      <td>...</td>\n",
              "      <td>...</td>\n",
              "      <td>...</td>\n",
              "      <td>...</td>\n",
              "      <td>...</td>\n",
              "    </tr>\n",
              "    <tr>\n",
              "      <th>4170</th>\n",
              "      <td>driver25</td>\n",
              "      <td>Driving</td>\n",
              "      <td>13.0</td>\n",
              "      <td>ndd</td>\n",
              "      <td>unique</td>\n",
              "      <td>uninterrupted</td>\n",
              "      <td>A</td>\n",
              "      <td>1</td>\n",
              "    </tr>\n",
              "    <tr>\n",
              "      <th>4171</th>\n",
              "      <td>driver25</td>\n",
              "      <td>Other</td>\n",
              "      <td>13.0</td>\n",
              "      <td>ndd</td>\n",
              "      <td>unique</td>\n",
              "      <td>uninterrupted</td>\n",
              "      <td>A</td>\n",
              "      <td>1</td>\n",
              "    </tr>\n",
              "    <tr>\n",
              "      <th>4172</th>\n",
              "      <td>driver25</td>\n",
              "      <td>Driving</td>\n",
              "      <td>13.0</td>\n",
              "      <td>ndd</td>\n",
              "      <td>unique</td>\n",
              "      <td>uninterrupted</td>\n",
              "      <td>A</td>\n",
              "      <td>1</td>\n",
              "    </tr>\n",
              "    <tr>\n",
              "      <th>4173</th>\n",
              "      <td>driver25</td>\n",
              "      <td>Other</td>\n",
              "      <td>13.0</td>\n",
              "      <td>ndd</td>\n",
              "      <td>unique</td>\n",
              "      <td>uninterrupted</td>\n",
              "      <td>A</td>\n",
              "      <td>1</td>\n",
              "    </tr>\n",
              "    <tr>\n",
              "      <th>4174</th>\n",
              "      <td>driver25</td>\n",
              "      <td>Break</td>\n",
              "      <td>13.0</td>\n",
              "      <td>ndd</td>\n",
              "      <td>unique</td>\n",
              "      <td>uninterrupted</td>\n",
              "      <td>DR_T1</td>\n",
              "      <td>1</td>\n",
              "    </tr>\n",
              "  </tbody>\n",
              "</table>\n",
              "<p>4175 rows × 8 columns</p>\n",
              "</div>"
            ],
            "text/plain": [
              "        Driver Activity   Day DayType Sequence      BreakType  Token  Legal\n",
              "0      driver1    Break   1.0     ndd    first        split_1   B_T0      1\n",
              "1      driver1  Driving   1.0     ndd    first        split_1      A      1\n",
              "2      driver1    Other   1.0     ndd    first        split_1      A      1\n",
              "3      driver1  Driving   1.0     ndd    first        split_1      A      1\n",
              "4      driver1    Other   1.0     ndd    first        split_1      A      1\n",
              "...        ...      ...   ...     ...      ...            ...    ...    ...\n",
              "4170  driver25  Driving  13.0     ndd   unique  uninterrupted      A      1\n",
              "4171  driver25    Other  13.0     ndd   unique  uninterrupted      A      1\n",
              "4172  driver25  Driving  13.0     ndd   unique  uninterrupted      A      1\n",
              "4173  driver25    Other  13.0     ndd   unique  uninterrupted      A      1\n",
              "4174  driver25    Break  13.0     ndd   unique  uninterrupted  DR_T1      1\n",
              "\n",
              "[4175 rows x 8 columns]"
            ]
          },
          "metadata": {},
          "execution_count": 6
        }
      ]
    },
    {
      "cell_type": "code",
      "metadata": {
        "colab": {
          "base_uri": "https://localhost:8080/",
          "height": 419
        },
        "id": "-mGAJUiQThzj",
        "outputId": "f59c8a93-bc71-48db-f4e7-0e2ade7a1428"
      },
      "source": [
        "#########################################################################\n",
        "# Transform data\n",
        "# Encode each column as numeric and group them\n",
        "#########################################################################\n",
        "\n",
        "# The encoded columns are:\n",
        "# Activity - DayType - Sequence - BreakType - Token - Legal\n",
        "\n",
        "# Reorder columns\n",
        "cols = ['Driver', 'Day', 'Activity', 'DayType', 'Sequence', 'BreakType', 'Token', 'Legal']\n",
        "df = df[cols]\n",
        "\n",
        "x = df.to_numpy()\n",
        "\n",
        "# Encode into ordinal numbers\n",
        "ordinalencoder_X = OrdinalEncoder(dtype=np.int8)\n",
        "x[:,2:] = ordinalencoder_X.fit_transform(x[:,2:])\n",
        "\n",
        "df_encoded = pd.DataFrame(x, columns=cols)\n",
        "\n",
        "# Group columns into one (as string)\n",
        "df_encoded['Encoding'] = df_encoded[df_encoded.columns[2:]].apply(\n",
        "                            lambda x: '-'.join(x.dropna().astype(str)),\n",
        "                            axis=1\n",
        "                        )\n",
        "\n",
        "# Remove encoded columns\n",
        "df_encoded = df_encoded[['Driver','Day','Encoding']]\n",
        "\n",
        "df_encoded"
      ],
      "execution_count": 18,
      "outputs": [
        {
          "output_type": "execute_result",
          "data": {
            "text/html": [
              "<div>\n",
              "<style scoped>\n",
              "    .dataframe tbody tr th:only-of-type {\n",
              "        vertical-align: middle;\n",
              "    }\n",
              "\n",
              "    .dataframe tbody tr th {\n",
              "        vertical-align: top;\n",
              "    }\n",
              "\n",
              "    .dataframe thead th {\n",
              "        text-align: right;\n",
              "    }\n",
              "</style>\n",
              "<table border=\"1\" class=\"dataframe\">\n",
              "  <thead>\n",
              "    <tr style=\"text-align: right;\">\n",
              "      <th></th>\n",
              "      <th>Driver</th>\n",
              "      <th>Day</th>\n",
              "      <th>Encoding</th>\n",
              "    </tr>\n",
              "  </thead>\n",
              "  <tbody>\n",
              "    <tr>\n",
              "      <th>0</th>\n",
              "      <td>driver1</td>\n",
              "      <td>1</td>\n",
              "      <td>0-1-0-1-1-1</td>\n",
              "    </tr>\n",
              "    <tr>\n",
              "      <th>1</th>\n",
              "      <td>driver1</td>\n",
              "      <td>1</td>\n",
              "      <td>1-1-0-1-0-1</td>\n",
              "    </tr>\n",
              "    <tr>\n",
              "      <th>2</th>\n",
              "      <td>driver1</td>\n",
              "      <td>1</td>\n",
              "      <td>3-1-0-1-0-1</td>\n",
              "    </tr>\n",
              "    <tr>\n",
              "      <th>3</th>\n",
              "      <td>driver1</td>\n",
              "      <td>1</td>\n",
              "      <td>1-1-0-1-0-1</td>\n",
              "    </tr>\n",
              "    <tr>\n",
              "      <th>4</th>\n",
              "      <td>driver1</td>\n",
              "      <td>1</td>\n",
              "      <td>3-1-0-1-0-1</td>\n",
              "    </tr>\n",
              "    <tr>\n",
              "      <th>...</th>\n",
              "      <td>...</td>\n",
              "      <td>...</td>\n",
              "      <td>...</td>\n",
              "    </tr>\n",
              "    <tr>\n",
              "      <th>4170</th>\n",
              "      <td>driver25</td>\n",
              "      <td>13</td>\n",
              "      <td>1-1-4-3-0-1</td>\n",
              "    </tr>\n",
              "    <tr>\n",
              "      <th>4171</th>\n",
              "      <td>driver25</td>\n",
              "      <td>13</td>\n",
              "      <td>3-1-4-3-0-1</td>\n",
              "    </tr>\n",
              "    <tr>\n",
              "      <th>4172</th>\n",
              "      <td>driver25</td>\n",
              "      <td>13</td>\n",
              "      <td>1-1-4-3-0-1</td>\n",
              "    </tr>\n",
              "    <tr>\n",
              "      <th>4173</th>\n",
              "      <td>driver25</td>\n",
              "      <td>13</td>\n",
              "      <td>3-1-4-3-0-1</td>\n",
              "    </tr>\n",
              "    <tr>\n",
              "      <th>4174</th>\n",
              "      <td>driver25</td>\n",
              "      <td>13</td>\n",
              "      <td>0-1-4-3-5-1</td>\n",
              "    </tr>\n",
              "  </tbody>\n",
              "</table>\n",
              "<p>4175 rows × 3 columns</p>\n",
              "</div>"
            ],
            "text/plain": [
              "        Driver Day     Encoding\n",
              "0      driver1   1  0-1-0-1-1-1\n",
              "1      driver1   1  1-1-0-1-0-1\n",
              "2      driver1   1  3-1-0-1-0-1\n",
              "3      driver1   1  1-1-0-1-0-1\n",
              "4      driver1   1  3-1-0-1-0-1\n",
              "...        ...  ..          ...\n",
              "4170  driver25  13  1-1-4-3-0-1\n",
              "4171  driver25  13  3-1-4-3-0-1\n",
              "4172  driver25  13  1-1-4-3-0-1\n",
              "4173  driver25  13  3-1-4-3-0-1\n",
              "4174  driver25  13  0-1-4-3-5-1\n",
              "\n",
              "[4175 rows x 3 columns]"
            ]
          },
          "metadata": {},
          "execution_count": 18
        }
      ]
    },
    {
      "cell_type": "code",
      "metadata": {
        "id": "jRdF0rEJEpZE"
      },
      "source": [
        "# Group activities by day and join them in a list\n",
        "\n",
        "# For each driver append all Encodings of one Day into a list\n",
        "groups = df_encoded.groupby('Driver', sort=False) # False to keep driver ordering\n",
        "\n",
        "# Each sentence is the sequence of activities in a day\n",
        "corpus_lists = []\n",
        "\n",
        "for name, group in groups:\n",
        "  a = group.drop(columns='Driver')\n",
        "  g = a.groupby('Day').cumcount()\n",
        "  L = (a.set_index(['Day',g])\n",
        "        .stack().groupby(level=0)\n",
        "        .apply(lambda x: x.values))\n",
        "\n",
        "  corpus_lists.extend(L)"
      ],
      "execution_count": 19,
      "outputs": []
    },
    {
      "cell_type": "code",
      "metadata": {
        "colab": {
          "base_uri": "https://localhost:8080/"
        },
        "id": "3U8jkJ_aN-oF",
        "outputId": "d3aadc58-25ce-4c93-be5c-4701235db761"
      },
      "source": [
        "print(len(df_encoded.Encoding.unique()))\n",
        "df_encoded.Encoding.unique()"
      ],
      "execution_count": 20,
      "outputs": [
        {
          "output_type": "stream",
          "name": "stdout",
          "text": [
            "126\n"
          ]
        },
        {
          "output_type": "execute_result",
          "data": {
            "text/plain": [
              "array(['0-1-0-1-1-1', '1-1-0-1-0-1', '3-1-0-1-0-1', '0-1-0-1-3-1',\n",
              "       '1-1-0-2-0-1', '0-1-0-2-4-1', '1-1-2-3-0-1', '3-1-2-3-0-1',\n",
              "       '0-1-2-3-5-1', '1-1-4-3-0-1', '3-1-4-3-0-1', '0-1-4-3-5-1',\n",
              "       '1-0-0-1-0-1', '0-0-0-1-3-1', '1-0-0-2-0-1', '3-0-0-2-0-1',\n",
              "       '0-0-0-2-4-1', '1-0-2-1-0-1', '0-0-2-1-3-1', '1-0-2-2-0-1',\n",
              "       '0-0-2-2-4-1', '1-0-3-3-0-1', '3-0-3-3-0-1', '0-0-3-3-6-1',\n",
              "       '1-0-2-3-0-1', '0-0-2-3-2-1', '1-0-3-1-0-1', '0-0-3-1-3-1',\n",
              "       '1-0-3-2-0-1', '0-0-3-2-1-1', '0-0-3-2-5-1', '0-1-0-2-1-1',\n",
              "       '3-1-0-2-0-1', '0-1-2-3-6-1', '1-1-0-3-0-1', '0-1-0-3-2-1',\n",
              "       '1-1-2-1-0-1', '0-1-2-1-3-1', '1-1-2-2-0-1', '0-1-2-2-1-1',\n",
              "       '0-1-2-2-5-1', '0-1-2-3-1-1', '0-1-2-3-10-1', '1-2-1-3-0-0',\n",
              "       '3-2-1-3-0-0', '2-2-1-3-9-0', '0-2-1-3-2-0', '1-2-1-0-0-0',\n",
              "       '2-2-1-0-9-0', '0-2-1-0-12-0', '0-2-1-0-1-0', '3-2-1-0-0-0',\n",
              "       '1-1-4-1-0-1', '0-1-4-1-3-1', '1-1-4-2-0-1', '0-1-4-2-7-1',\n",
              "       '0-1-4-3-10-1', '1-0-0-3-0-1', '0-0-0-3-1-1', '3-0-0-3-0-1',\n",
              "       '0-0-0-3-2-1', '0-0-2-1-1-1', '3-0-2-1-0-1', '4-0-3-2-5-1',\n",
              "       '0-0-0-1-1-1', '3-0-0-1-0-1', '3-0-2-2-0-1', '0-0-2-2-1-1',\n",
              "       '3-1-0-3-0-1', '0-1-2-2-7-1', '0-1-4-3-8-1', '3-1-2-1-0-1',\n",
              "       '0-1-2-1-1-1', '3-1-2-2-0-1', '1-2-1-1-0-0', '0-2-1-1-3-0',\n",
              "       '1-2-1-2-0-0', '0-2-1-2-4-0', '0-1-2-2-6-1', '3-2-1-1-0-0',\n",
              "       '0-2-1-2-1-0', '2-2-1-2-9-0', '3-2-1-2-0-0', '3-1-4-1-0-1',\n",
              "       '0-1-4-1-1-1', '0-1-4-2-10-1', '0-1-4-3-1-1', '0-0-3-3-5-1',\n",
              "       '0-2-1-3-1-0', '0-0-3-2-10-1', '0-2-1-1-1-0', '3-0-3-2-0-1',\n",
              "       '0-0-3-2-6-1', '3-0-2-3-0-1', '3-0-3-1-0-1', '0-0-3-1-1-1',\n",
              "       '0-1-4-2-8-1', '4-1-0-3-2-1', '4-1-2-3-5-1', '3-1-4-2-0-1',\n",
              "       '0-1-2-3-7-1', '0-1-2-3-8-1', '0-1-4-3-11-1', '0-1-0-3-1-1',\n",
              "       '0-1-4-3-7-1', '0-1-4-2-5-1', '0-0-3-3-11-1', '0-1-4-3-6-1',\n",
              "       '0-0-0-2-1-1', '0-1-2-2-8-1', '0-0-2-3-1-1', '0-1-2-2-10-1',\n",
              "       '0-1-4-2-1-1', '4-1-2-3-8-1', '0-1-2-3-11-1', '4-1-2-2-5-1',\n",
              "       '0-0-3-2-8-1', '0-0-3-3-10-1', '0-1-4-2-11-1', '0-1-2-2-11-1',\n",
              "       '4-1-2-3-10-1', '2-1-0-3-9-1', '0-1-4-2-6-1', '0-0-3-3-1-1',\n",
              "       '0-0-3-3-7-1', '4-1-0-2-4-1'], dtype=object)"
            ]
          },
          "metadata": {},
          "execution_count": 20
        }
      ]
    },
    {
      "cell_type": "code",
      "metadata": {
        "id": "KqqlFbpV2RCa"
      },
      "source": [
        "#########################################################################\n",
        "# Get embeddings\n",
        "# Paragraph Vector (Doc2Vec)\n",
        "# Word2vec for all the documents\n",
        "#########################################################################\n",
        "\n",
        "# Tag documents\n",
        "documents = [TaggedDocument(doc, [i]) for i, doc in enumerate(corpus_lists)]\n",
        "\n",
        "# Define and initialize model\n",
        "doc2vec = Doc2Vec(documents, epochs=40, min_count=2, seed=1245)\n",
        "\n",
        "# Train model\n",
        "doc2vec.train(documents, \n",
        "              total_examples=doc2vec.corpus_count, \n",
        "              epochs=doc2vec.epochs)"
      ],
      "execution_count": 21,
      "outputs": []
    },
    {
      "cell_type": "code",
      "metadata": {
        "colab": {
          "base_uri": "https://localhost:8080/"
        },
        "id": "p_mH07JH42gm",
        "outputId": "edf0beab-5287-4831-fff0-4c98723ed783"
      },
      "source": [
        "# TODO: Evaluate doc2vec model\n",
        "\n",
        "ranks = []\n",
        "second_ranks = []\n",
        "for doc_id in range(len(documents)):\n",
        "    inferred_vector = doc2vec.infer_vector(documents[doc_id].words)\n",
        "    sims = doc2vec.dv.most_similar([inferred_vector], topn=len(doc2vec.dv))\n",
        "    rank = [docid for docid, sim in sims].index(doc_id)\n",
        "    ranks.append(rank)\n",
        "\n",
        "    second_ranks.append(sims[1])\n",
        "\n",
        "import collections\n",
        "\n",
        "counter = collections.Counter(ranks)\n",
        "print(counter)"
      ],
      "execution_count": 22,
      "outputs": [
        {
          "output_type": "stream",
          "name": "stdout",
          "text": [
            "Counter({0: 58, 1: 19, 9: 14, 2: 14, 3: 11, 5: 11, 6: 7, 13: 7, 11: 7, 4: 6, 8: 6, 17: 5, 7: 5, 14: 5, 18: 4, 12: 4, 20: 4, 30: 3, 19: 3, 16: 3, 10: 3, 21: 2, 15: 2, 27: 2, 49: 2, 25: 2, 36: 2, 62: 2, 82: 1, 90: 1, 177: 1, 76: 1, 44: 1, 54: 1, 48: 1, 31: 1, 80: 1, 119: 1, 28: 1, 57: 1, 102: 1, 86: 1, 32: 1, 189: 1, 35: 1, 40: 1, 187: 1, 46: 1, 41: 1, 29: 1, 39: 1, 114: 1, 37: 1, 26: 1, 83: 1, 47: 1})\n"
          ]
        }
      ]
    },
    {
      "cell_type": "code",
      "metadata": {
        "id": "jKI4f8YV4l9I"
      },
      "source": [
        "# Get embedding for each sentence\n",
        "embeddings_d2v = []\n",
        "\n",
        "for sentence in corpus_lists:\n",
        "  embeddings_d2v.append(\n",
        "      doc2vec.infer_vector(sentence)\n",
        "  )"
      ],
      "execution_count": 23,
      "outputs": []
    },
    {
      "cell_type": "code",
      "metadata": {
        "id": "yzBbXr-iP87s"
      },
      "source": [
        "#########################################################################\n",
        "# Get embeddings\n",
        "# Bag-of-words and TF-IDF\n",
        "# \n",
        "# It seem it will work without considering order (maybe because the tags already\n",
        "# add information about it?)\n",
        "# \n",
        "# https://stackoverflow.com/questions/50933591/how-to-perform-kmean-clustering-from-gensim-tfidf-values\n",
        "#########################################################################\n",
        "\n",
        "# Get the dictionary of our corpus\n",
        "dictionary = Dictionary(corpus_lists)\n",
        "num_docs = dictionary.num_docs\n",
        "num_terms = len(dictionary.keys())\n",
        "\n",
        "# Transform into bow (bag-of-words)\n",
        "# It's a small dictionary so I think this representation shouldn't be a problem\n",
        "corpus_bow = [dictionary.doc2bow(doc) for doc in corpus_lists]\n",
        "\n",
        "# Transform into tf-idf (term frequency – inverse document frequency)\n",
        "tfidf = TfidfModel(corpus_bow)\n",
        "corpus_tfidf = tfidf[corpus_bow]\n",
        "\n",
        "# Transform into sparse/dense matrix:\n",
        "corpus_tfidf_dense = corpus2dense(corpus_tfidf, num_terms, num_docs)\n",
        "# corpus_tfidf_sparse = corpus2csc(corpus_tfidf, num_terms, num_docs)"
      ],
      "execution_count": 24,
      "outputs": []
    },
    {
      "cell_type": "code",
      "metadata": {
        "colab": {
          "base_uri": "https://localhost:8080/",
          "height": 514
        },
        "id": "ZAq95PQhH_CD",
        "outputId": "50521b58-5038-461d-ae5c-3662df469c25"
      },
      "source": [
        "#########################################################################\n",
        "# Visualize embeddings\n",
        "#########################################################################\n",
        "\n",
        "# TODO: HACERLO EN CONDICIONES\n",
        "\n",
        "from sklearn.decomposition import PCA\n",
        "from sklearn.manifold import TSNE\n",
        "\n",
        "# TSNE\n",
        "tsne = TSNE(n_components=2)\n",
        "X_tsne = tsne.fit_transform(corpus_tfidf_dense)\n",
        "df_1 = pd.DataFrame(X_tsne, columns=['x', 'y'])\n",
        "\n",
        "fig, ax = plt.subplots()\n",
        "ax.scatter(df_1['x'], df_1['y'])\n",
        "plt.show()\n",
        "\n",
        "# PCA\n",
        "pca = PCA(n_components=2)\n",
        "X_pca = pca.fit_transform(corpus_tfidf_dense)\n",
        "df_1 = pd.DataFrame(X_pca, columns=['x', 'y'])\n",
        "\n",
        "\n",
        "fig, ax = plt.subplots()\n",
        "ax.scatter(df_1['x'], df_1['y'])\n",
        "plt.show()"
      ],
      "execution_count": 176,
      "outputs": [
        {
          "output_type": "display_data",
          "data": {
            "image/png": "[encoded data removed]",
            "text/plain": [
              "<Figure size 432x288 with 1 Axes>"
            ]
          },
          "metadata": {
            "needs_background": "light"
          }
        },
        {
          "output_type": "display_data",
          "data": {
            "image/png": "[encoded data removed]",
            "text/plain": [
              "<Figure size 432x288 with 1 Axes>"
            ]
          },
          "metadata": {
            "needs_background": "light"
          }
        }
      ]
    },
    {
      "cell_type": "code",
      "metadata": {
        "colab": {
          "base_uri": "https://localhost:8080/",
          "height": 513
        },
        "id": "HPKDy1s0JJ7V",
        "outputId": "7c06ec8c-a833-4be2-e839-a18157d541ce"
      },
      "source": [
        "from sklearn.decomposition import PCA\n",
        "from sklearn.manifold import TSNE\n",
        "\n",
        "# TSNE\n",
        "tsne = TSNE(n_components=2)\n",
        "X_tsne = tsne.fit_transform(embeddings_d2v)\n",
        "df_1 = pd.DataFrame(X_tsne, columns=['x', 'y'])\n",
        "\n",
        "fig, ax = plt.subplots()\n",
        "ax.scatter(df_1['x'], df_1['y'])\n",
        "plt.show()\n",
        "\n",
        "# PCA\n",
        "pca = PCA(n_components=2)\n",
        "X_pca = pca.fit_transform(embeddings_d2v)\n",
        "df_1 = pd.DataFrame(X_pca, columns=['x', 'y'])\n",
        "\n",
        "\n",
        "fig, ax = plt.subplots()\n",
        "ax.scatter(df_1['x'], df_1['y'])\n",
        "plt.show()"
      ],
      "execution_count": 175,
      "outputs": [
        {
          "output_type": "display_data",
          "data": {
            "image/png": "[encoded data removed]",
            "text/plain": [
              "<Figure size 432x288 with 1 Axes>"
            ]
          },
          "metadata": {
            "needs_background": "light"
          }
        },
        {
          "output_type": "display_data",
          "data": {
            "image/png": "[encoded data removed]",
            "text/plain": [
              "<Figure size 432x288 with 1 Axes>"
            ]
          },
          "metadata": {
            "needs_background": "light"
          }
        }
      ]
    },
    {
      "cell_type": "code",
      "metadata": {
        "id": "lruLUdBME_5c",
        "colab": {
          "base_uri": "https://localhost:8080/"
        },
        "outputId": "f4171fa3-9866-443e-982c-21d42781b099"
      },
      "source": [
        "#########################################################################\n",
        "# Train data\n",
        "# KMeans clustering\n",
        "#########################################################################\n",
        "\n",
        "n_clusters = 10\n",
        "\n",
        "# Apply KMeans clustering\n",
        "kmeans = KMeans(n_clusters=n_clusters, random_state=12345)\n",
        "\n",
        "clusters_bow = kmeans.fit_predict(corpus_tfidf_dense.T)  # Transposed!\n",
        "centroid_bow = kmeans.cluster_centers_\n",
        "\n",
        "clusters_d2v = kmeans.fit_predict(embeddings_d2v)\n",
        "centroid_d2v = kmeans.cluster_centers_\n",
        "\n",
        "print(clusters_bow)\n",
        "print(clusters_d2v)"
      ],
      "execution_count": 122,
      "outputs": [
        {
          "output_type": "stream",
          "name": "stdout",
          "text": [
            "[2 5 0 3 2 9 7 2 6 4 7 0 0 1 5 8 8 4 5 0 2 3 5 4 3 2 9 6 1 9 6 5 2 7 9 0 9\n",
            " 5 5 1 5 8 7 3 5 2 5 7 6 0 3 9 0 9 1 0 0 5 2 3 8 3 1 8 5 9 8 3 2 0 2 0 7 5\n",
            " 9 9 6 0 5 7 0 8 1 6 4 3 1 8 5 5 6 7 5 0 0 9 6 9 3 5 4 7 7 6 3 9 4 4 6 4 1\n",
            " 8 8 0 3 1 1 9 5 3 0 1 0 8 2 8 4 1 7 1 1 9 3 9 3 3 8 8 8 1 7 2 0 2 5 4 4 6\n",
            " 2 4 0 3 4 9 6 6 3 8 7 4 5 5 7 3 0 9 8 1 5 7 9 5 7 5 2 3 7 7 2 5 0 3 8 4 7\n",
            " 7 5 6 1 2 2 7 6 0 6 1 6 7 0 6 1 6 6 9 5 7 3 3 7 4 7 5 6 0 5 8 0 9 9 4 5 9\n",
            " 2 3 3 7 4 4 1 6 2 7 6 2 0 8 1 1 0 2 5]\n",
            "[2 3 2 1 5 4 2 5 1 3 1 8 9 4 2 5 0 6 2 8 1 1 3 0 1 2 1 1 5 2 1 2 1 5 2 1 1\n",
            " 3 2 4 3 4 1 1 3 1 2 1 1 1 1 2 1 2 4 1 1 3 1 8 2 1 0 1 3 1 4 1 1 5 5 1 1 3\n",
            " 2 1 1 1 3 4 1 1 5 1 6 6 4 4 3 2 1 2 3 1 2 1 1 1 1 1 8 5 1 1 2 1 6 1 2 1 4\n",
            " 4 5 9 1 4 5 5 2 8 1 4 2 0 5 1 7 4 1 5 5 1 8 2 9 2 4 0 5 4 1 5 8 2 2 1 1 0\n",
            " 5 6 0 8 6 1 1 1 1 2 1 9 2 3 4 2 1 2 1 1 2 1 2 3 4 2 5 1 4 1 1 3 2 1 5 0 1\n",
            " 4 3 8 1 5 1 5 2 1 2 4 2 4 1 1 1 2 2 5 2 2 2 2 1 7 5 3 2 2 3 4 8 1 2 0 2 1\n",
            " 1 2 1 1 5 8 4 1 5 1 1 1 8 4 5 1 2 5 2]\n"
          ]
        }
      ]
    },
    {
      "cell_type": "code",
      "metadata": {
        "colab": {
          "base_uri": "https://localhost:8080/"
        },
        "id": "PxtlEhgDDSPv",
        "outputId": "ebf15dbf-529a-4d11-caf9-efc054d53185"
      },
      "source": [
        "#########################################################################\n",
        "# Train data\n",
        "# DBscan clustering\n",
        "#########################################################################\n",
        "\n",
        "# The DBSCAN algorithm views clusters as areas of high density separated by areas of low density. Due to this rather generic view, clusters found by DBSCAN can be any shape, as opposed to k-means which assumes that clusters are convex shaped.\n",
        "# https://scikit-learn.org/stable/modules/clustering.html#dbscan\n",
        "\n",
        "from sklearn.cluster import DBSCAN\n",
        "\n",
        "dbscan = DBSCAN(metric='euclidean', eps=0.8, min_samples=2)\n",
        "clusters_bow = dbscan.fit_predict(corpus_tfidf_dense.T)  # Transposed!\n",
        "centroid_bow = dbscan.core_sample_indices_\n",
        "\n",
        "dbscan = DBSCAN(metric='cosine', eps=0.1, min_samples=2)\n",
        "clusters_d2v = dbscan.fit_predict(embeddings_d2v)\n",
        "centroid_d2v = dbscan.core_sample_indices_\n",
        "\n",
        "# Cluster = -1 -> Noise\n",
        "print(clusters_bow)\n",
        "print(clusters_d2v)"
      ],
      "execution_count": 145,
      "outputs": [
        {
          "output_type": "stream",
          "name": "stdout",
          "text": [
            "[ 0  1  2  3  0  0  0  0  4 -1  0  5  2  0  1  0  0 -1  1  2  0  6  1 -1\n",
            "  7 -1  0  4 -1  0  4  1  0  0  0  5  0  1  1  0  8  0  0  7  1  0  1  0\n",
            "  6  5 -1  0  5  0  0  2  5  1  0 -1  0  5  0  0  1  0  0  9  0  8  0  5\n",
            "  0  1  0  0  4 10  1  0  5  0 -1  4  0  2  0  0  1  1  4  0  1  5 -1  0\n",
            "  4  0  3  1  4  0  0  4  5  0  0 11 -1  0  0  0  0  5  5  0  0  0  1  5\n",
            " 10  0  5  0  0  0  0  0  0  0 -1  0 12  0  7  3 -1  0  0  0  0  0  2  0\n",
            "  1 -1  0 -1  0  4 -1  7  4  0  4  4  7  0  0 11  1  1 -1 12  2 -1  0  0\n",
            "  1  0  0  1  0  1  0  9  0  0  0  1  5  5  0  0  0  0  1  4  0  0  0  0\n",
            "  4  5  4  0  4  0  5  4  0  4  4  0  1  0 12 -1  0  0  0  1  6  2  1  0\n",
            "  2  0  0 -1  1  0  0  6  2  0 13 13  0 -1  0  0  4  0  5  0  0  0  5  0\n",
            "  1]\n",
            "[-1  0  0 -1  0  0  0  0  0 -1  0  0  0  0  0  0  0  0  0  0  0 -1  0 -1\n",
            "  0 -1  0  0  0  0  0  0  0  0 -1  0  0  0  1 -1  0  0  0  0  0  0  0  0\n",
            " -1  0  0 -1  0  2  0  0  0  0  0  0 -1 -1 -1 -1  0  0 -1  0  0  0  0  0\n",
            "  0  0  2  0  0  0  0  0  0  0  0  0  0  0  0  0  0  0  0  0  0  0 -1  0\n",
            "  0  0 -1  0  0  0  0  0 -1  0  0 -1  0  0  0  0  0  0  0 -1  0  0  1  0\n",
            "  0  0  0 -1  0  0 -1  0  0  0  0  0  0  0 -1 -1 -1 -1 -1  0  0  0  0 -1\n",
            "  1 -1 -1 -1  0 -1 -1  0  0  0  0  0 -1 -1  0  0  0  0  0 -1  0 -1  0  0\n",
            "  0  0 -1  0  0  0  0  0  0  0  0  0 -1  0  0 -1  0 -1  0  0  0 -1  0  0\n",
            "  0  0 -1  0  0  0  0  0  0 -1  0  0  0 -1 -1 -1  0 -1  0  0 -1 -1  0  0\n",
            "  0  0  2 -1  0  0  0 -1  0  0 -1  0  0  0  0  0  0  0  0  0  0  0 -1  0\n",
            "  0]\n"
          ]
        }
      ]
    },
    {
      "cell_type": "code",
      "metadata": {
        "id": "D46zfwdNEAFV"
      },
      "source": [
        "#########################################################################\n",
        "# Get decoded centroids for Doc2Vec\n",
        "#########################################################################\n",
        "\n",
        "# Receives an encoding\n",
        "def undo_encoding(x):\n",
        "  l = x.split('-')\n",
        "  return [int(e) for e in l]\n",
        "\n",
        "# Receives a document\n",
        "def v_undo_encoding(x):\n",
        "  return [undo_encoding(e) for e in x]\n",
        "\n",
        "# ------------------------------------------------------------------------------\n",
        "\n",
        "def get_decoded_centroids_d2v(centroids):\n",
        "  # For each centroid get the most similar document\n",
        "  centroid_docs = []\n",
        "  for cent in centroids:\n",
        "    doc, similarity = doc2vec.dv.most_similar(positive = [cent], topn=1)[0]\n",
        "    centroid_docs.append(doc)\n",
        "\n",
        "  # Get the content of each doc\n",
        "  docs = []\n",
        "  for c_doc in centroid_docs:\n",
        "    docs.append(corpus_lists[c_doc])\n",
        "\n",
        "  # -----------------------------------------------\n",
        "\n",
        "  # Get input format for inverse_encoder\n",
        "  encoded_centroids = list(map(v_undo_encoding, docs))\n",
        "\n",
        "  # Decode each centroid\n",
        "  decoded_centroids = []\n",
        "  for centroid in encoded_centroids:\n",
        "    b = ordinalencoder_X.inverse_transform(centroid)\n",
        "    \n",
        "    decoded_centroids.append(b)\n",
        "\n",
        "  # -----------------------------------------------\n",
        "  # Get centroids as DataFrame\n",
        "\n",
        "  cols = ['Activity', 'DayType', 'Sequence', 'BreakType', 'Token', 'Legal']\n",
        "\n",
        "  df_centroids = pd.DataFrame(columns=cols)\n",
        "\n",
        "  for c, number in zip(decoded_centroids, range(len(decoded_centroids))):\n",
        "    df_c = pd.DataFrame(c, columns=cols)\n",
        "    df_c[\"Cluster\"] = number\n",
        "\n",
        "    df_centroids = df_centroids.append(df_c)\n",
        "\n",
        "  return df_centroids"
      ],
      "execution_count": 112,
      "outputs": []
    },
    {
      "cell_type": "code",
      "metadata": {
        "colab": {
          "base_uri": "https://localhost:8080/",
          "height": 419
        },
        "id": "btsx9G8QxbdH",
        "outputId": "9f515231-31ca-4be8-c318-f36ad46f5e02"
      },
      "source": [
        "decoded_centroids_d2v = get_decoded_centroids_d2v(centroid_d2v)\n",
        "decoded_centroids_d2v"
      ],
      "execution_count": 113,
      "outputs": [
        {
          "output_type": "execute_result",
          "data": {
            "text/html": [
              "<div>\n",
              "<style scoped>\n",
              "    .dataframe tbody tr th:only-of-type {\n",
              "        vertical-align: middle;\n",
              "    }\n",
              "\n",
              "    .dataframe tbody tr th {\n",
              "        vertical-align: top;\n",
              "    }\n",
              "\n",
              "    .dataframe thead th {\n",
              "        text-align: right;\n",
              "    }\n",
              "</style>\n",
              "<table border=\"1\" class=\"dataframe\">\n",
              "  <thead>\n",
              "    <tr style=\"text-align: right;\">\n",
              "      <th></th>\n",
              "      <th>Activity</th>\n",
              "      <th>DayType</th>\n",
              "      <th>Sequence</th>\n",
              "      <th>BreakType</th>\n",
              "      <th>Token</th>\n",
              "      <th>Legal</th>\n",
              "      <th>Cluster</th>\n",
              "    </tr>\n",
              "  </thead>\n",
              "  <tbody>\n",
              "    <tr>\n",
              "      <th>0</th>\n",
              "      <td>Driving</td>\n",
              "      <td>none</td>\n",
              "      <td>none</td>\n",
              "      <td>split_1</td>\n",
              "      <td>A</td>\n",
              "      <td>0</td>\n",
              "      <td>0.0</td>\n",
              "    </tr>\n",
              "    <tr>\n",
              "      <th>1</th>\n",
              "      <td>Break</td>\n",
              "      <td>none</td>\n",
              "      <td>none</td>\n",
              "      <td>split_1</td>\n",
              "      <td>B_T2</td>\n",
              "      <td>0</td>\n",
              "      <td>0.0</td>\n",
              "    </tr>\n",
              "    <tr>\n",
              "      <th>2</th>\n",
              "      <td>Driving</td>\n",
              "      <td>none</td>\n",
              "      <td>none</td>\n",
              "      <td>split_2</td>\n",
              "      <td>A</td>\n",
              "      <td>0</td>\n",
              "      <td>0.0</td>\n",
              "    </tr>\n",
              "    <tr>\n",
              "      <th>3</th>\n",
              "      <td>Break</td>\n",
              "      <td>none</td>\n",
              "      <td>none</td>\n",
              "      <td>split_2</td>\n",
              "      <td>B_T3</td>\n",
              "      <td>0</td>\n",
              "      <td>0.0</td>\n",
              "    </tr>\n",
              "    <tr>\n",
              "      <th>4</th>\n",
              "      <td>Driving</td>\n",
              "      <td>ndd</td>\n",
              "      <td>first</td>\n",
              "      <td>split_1</td>\n",
              "      <td>A</td>\n",
              "      <td>1</td>\n",
              "      <td>0.0</td>\n",
              "    </tr>\n",
              "    <tr>\n",
              "      <th>...</th>\n",
              "      <td>...</td>\n",
              "      <td>...</td>\n",
              "      <td>...</td>\n",
              "      <td>...</td>\n",
              "      <td>...</td>\n",
              "      <td>...</td>\n",
              "      <td>...</td>\n",
              "    </tr>\n",
              "    <tr>\n",
              "      <th>9</th>\n",
              "      <td>Driving</td>\n",
              "      <td>ndd</td>\n",
              "      <td>second</td>\n",
              "      <td>split_1</td>\n",
              "      <td>A</td>\n",
              "      <td>1</td>\n",
              "      <td>9.0</td>\n",
              "    </tr>\n",
              "    <tr>\n",
              "      <th>10</th>\n",
              "      <td>Break</td>\n",
              "      <td>ndd</td>\n",
              "      <td>second</td>\n",
              "      <td>split_1</td>\n",
              "      <td>B_T2</td>\n",
              "      <td>1</td>\n",
              "      <td>9.0</td>\n",
              "    </tr>\n",
              "    <tr>\n",
              "      <th>11</th>\n",
              "      <td>Driving</td>\n",
              "      <td>ndd</td>\n",
              "      <td>second</td>\n",
              "      <td>split_2</td>\n",
              "      <td>A</td>\n",
              "      <td>1</td>\n",
              "      <td>9.0</td>\n",
              "    </tr>\n",
              "    <tr>\n",
              "      <th>12</th>\n",
              "      <td>Other</td>\n",
              "      <td>ndd</td>\n",
              "      <td>second</td>\n",
              "      <td>split_2</td>\n",
              "      <td>A</td>\n",
              "      <td>1</td>\n",
              "      <td>9.0</td>\n",
              "    </tr>\n",
              "    <tr>\n",
              "      <th>13</th>\n",
              "      <td>Break</td>\n",
              "      <td>ndd</td>\n",
              "      <td>second</td>\n",
              "      <td>split_2</td>\n",
              "      <td>DR_T2</td>\n",
              "      <td>1</td>\n",
              "      <td>9.0</td>\n",
              "    </tr>\n",
              "  </tbody>\n",
              "</table>\n",
              "<p>153 rows × 7 columns</p>\n",
              "</div>"
            ],
            "text/plain": [
              "   Activity DayType Sequence BreakType  Token Legal  Cluster\n",
              "0   Driving    none     none   split_1      A     0      0.0\n",
              "1     Break    none     none   split_1   B_T2     0      0.0\n",
              "2   Driving    none     none   split_2      A     0      0.0\n",
              "3     Break    none     none   split_2   B_T3     0      0.0\n",
              "4   Driving     ndd    first   split_1      A     1      0.0\n",
              "..      ...     ...      ...       ...    ...   ...      ...\n",
              "9   Driving     ndd   second   split_1      A     1      9.0\n",
              "10    Break     ndd   second   split_1   B_T2     1      9.0\n",
              "11  Driving     ndd   second   split_2      A     1      9.0\n",
              "12    Other     ndd   second   split_2      A     1      9.0\n",
              "13    Break     ndd   second   split_2  DR_T2     1      9.0\n",
              "\n",
              "[153 rows x 7 columns]"
            ]
          },
          "metadata": {},
          "execution_count": 113
        }
      ]
    },
    {
      "cell_type": "code",
      "metadata": {
        "id": "BNrhItJ8SHBO"
      },
      "source": [
        "# Print results\n",
        "\n",
        "# NOTE: Select here which clusters show\n",
        "clusters = clusters_d2v\n",
        "\n",
        "groups = df2.groupby(['Driver','Day'], sort=False)\n",
        "\n",
        "results = []\n",
        "for (name, group), cluster in zip(groups, clusters):\n",
        "  results.append(\"{} in day {}: {}\".format(name[0], int(name[1]), cluster))\n",
        "\n",
        "# results"
      ],
      "execution_count": null,
      "outputs": []
    },
    {
      "cell_type": "code",
      "metadata": {
        "colab": {
          "base_uri": "https://localhost:8080/",
          "height": 419
        },
        "id": "cxI6AYsoqAAE",
        "outputId": "b3908e8b-db04-4c7d-b8f6-c524df74f291"
      },
      "source": [
        "#########################################################################\n",
        "# Save results\n",
        "#########################################################################\n",
        "\n",
        "# NOTE: Select here which clusters save\n",
        "clusters = clusters_d2v\n",
        "\n",
        "# Final dataset columns\n",
        "cols = df_original.columns.to_numpy()\n",
        "cols = np.insert(cols, -1, 'Cluster')\n",
        "\n",
        "df_out = pd.DataFrame(columns=cols)\n",
        "\n",
        "groups = df_original.groupby(['Driver','Day'], sort=False)\n",
        "\n",
        "# Add clusters to log\n",
        "for (name, group), cluster in zip(groups, clusters):\n",
        "  group[\"Cluster\"] = cluster\n",
        "  df_out = df_out.append(group)\n",
        "\n",
        "df_out"
      ],
      "execution_count": 120,
      "outputs": [
        {
          "output_type": "execute_result",
          "data": {
            "text/html": [
              "<div>\n",
              "<style scoped>\n",
              "    .dataframe tbody tr th:only-of-type {\n",
              "        vertical-align: middle;\n",
              "    }\n",
              "\n",
              "    .dataframe tbody tr th {\n",
              "        vertical-align: top;\n",
              "    }\n",
              "\n",
              "    .dataframe thead th {\n",
              "        text-align: right;\n",
              "    }\n",
              "</style>\n",
              "<table border=\"1\" class=\"dataframe\">\n",
              "  <thead>\n",
              "    <tr style=\"text-align: right;\">\n",
              "      <th></th>\n",
              "      <th>Driver</th>\n",
              "      <th>DateTimeStart</th>\n",
              "      <th>DateTimeEnd</th>\n",
              "      <th>Duration</th>\n",
              "      <th>Activity</th>\n",
              "      <th>Week</th>\n",
              "      <th>Day</th>\n",
              "      <th>DayType</th>\n",
              "      <th>Sequence</th>\n",
              "      <th>BreakType</th>\n",
              "      <th>Token</th>\n",
              "      <th>Legal</th>\n",
              "      <th>Cluster</th>\n",
              "      <th>ZenoInfo</th>\n",
              "    </tr>\n",
              "  </thead>\n",
              "  <tbody>\n",
              "    <tr>\n",
              "      <th>0</th>\n",
              "      <td>driver1</td>\n",
              "      <td>2017-02-01 17:59:00</td>\n",
              "      <td>2017-02-01 18:13:00</td>\n",
              "      <td>14.0</td>\n",
              "      <td>Break</td>\n",
              "      <td>1.0</td>\n",
              "      <td>1.0</td>\n",
              "      <td>ndd</td>\n",
              "      <td>first</td>\n",
              "      <td>split_1</td>\n",
              "      <td>B_T0</td>\n",
              "      <td>1</td>\n",
              "      <td>2</td>\n",
              "      <td>NaN</td>\n",
              "    </tr>\n",
              "    <tr>\n",
              "      <th>1</th>\n",
              "      <td>driver1</td>\n",
              "      <td>2017-02-01 18:13:00</td>\n",
              "      <td>2017-02-01 18:16:00</td>\n",
              "      <td>3.0</td>\n",
              "      <td>Driving</td>\n",
              "      <td>1.0</td>\n",
              "      <td>1.0</td>\n",
              "      <td>ndd</td>\n",
              "      <td>first</td>\n",
              "      <td>split_1</td>\n",
              "      <td>A</td>\n",
              "      <td>1</td>\n",
              "      <td>2</td>\n",
              "      <td>NaN</td>\n",
              "    </tr>\n",
              "    <tr>\n",
              "      <th>2</th>\n",
              "      <td>driver1</td>\n",
              "      <td>2017-02-01 18:16:00</td>\n",
              "      <td>2017-02-01 18:18:00</td>\n",
              "      <td>2.0</td>\n",
              "      <td>Other</td>\n",
              "      <td>1.0</td>\n",
              "      <td>1.0</td>\n",
              "      <td>ndd</td>\n",
              "      <td>first</td>\n",
              "      <td>split_1</td>\n",
              "      <td>A</td>\n",
              "      <td>1</td>\n",
              "      <td>2</td>\n",
              "      <td>NaN</td>\n",
              "    </tr>\n",
              "    <tr>\n",
              "      <th>3</th>\n",
              "      <td>driver1</td>\n",
              "      <td>2017-02-01 18:18:00</td>\n",
              "      <td>2017-02-01 18:20:00</td>\n",
              "      <td>2.0</td>\n",
              "      <td>Driving</td>\n",
              "      <td>1.0</td>\n",
              "      <td>1.0</td>\n",
              "      <td>ndd</td>\n",
              "      <td>first</td>\n",
              "      <td>split_1</td>\n",
              "      <td>A</td>\n",
              "      <td>1</td>\n",
              "      <td>2</td>\n",
              "      <td>NaN</td>\n",
              "    </tr>\n",
              "    <tr>\n",
              "      <th>4</th>\n",
              "      <td>driver1</td>\n",
              "      <td>2017-02-01 18:20:00</td>\n",
              "      <td>2017-02-01 18:43:00</td>\n",
              "      <td>23.0</td>\n",
              "      <td>Other</td>\n",
              "      <td>1.0</td>\n",
              "      <td>1.0</td>\n",
              "      <td>ndd</td>\n",
              "      <td>first</td>\n",
              "      <td>split_1</td>\n",
              "      <td>A</td>\n",
              "      <td>1</td>\n",
              "      <td>2</td>\n",
              "      <td>NaN</td>\n",
              "    </tr>\n",
              "    <tr>\n",
              "      <th>...</th>\n",
              "      <td>...</td>\n",
              "      <td>...</td>\n",
              "      <td>...</td>\n",
              "      <td>...</td>\n",
              "      <td>...</td>\n",
              "      <td>...</td>\n",
              "      <td>...</td>\n",
              "      <td>...</td>\n",
              "      <td>...</td>\n",
              "      <td>...</td>\n",
              "      <td>...</td>\n",
              "      <td>...</td>\n",
              "      <td>...</td>\n",
              "      <td>...</td>\n",
              "    </tr>\n",
              "    <tr>\n",
              "      <th>4170</th>\n",
              "      <td>driver25</td>\n",
              "      <td>2017-01-15 09:56:00</td>\n",
              "      <td>2017-01-15 09:59:00</td>\n",
              "      <td>3.0</td>\n",
              "      <td>Driving</td>\n",
              "      <td>3.0</td>\n",
              "      <td>13.0</td>\n",
              "      <td>ndd</td>\n",
              "      <td>unique</td>\n",
              "      <td>uninterrupted</td>\n",
              "      <td>A</td>\n",
              "      <td>1</td>\n",
              "      <td>2</td>\n",
              "      <td>NaN</td>\n",
              "    </tr>\n",
              "    <tr>\n",
              "      <th>4171</th>\n",
              "      <td>driver25</td>\n",
              "      <td>2017-01-15 09:59:00</td>\n",
              "      <td>2017-01-15 10:01:00</td>\n",
              "      <td>2.0</td>\n",
              "      <td>Other</td>\n",
              "      <td>3.0</td>\n",
              "      <td>13.0</td>\n",
              "      <td>ndd</td>\n",
              "      <td>unique</td>\n",
              "      <td>uninterrupted</td>\n",
              "      <td>A</td>\n",
              "      <td>1</td>\n",
              "      <td>2</td>\n",
              "      <td>NaN</td>\n",
              "    </tr>\n",
              "    <tr>\n",
              "      <th>4172</th>\n",
              "      <td>driver25</td>\n",
              "      <td>2017-01-15 10:01:00</td>\n",
              "      <td>2017-01-15 10:08:00</td>\n",
              "      <td>7.0</td>\n",
              "      <td>Driving</td>\n",
              "      <td>3.0</td>\n",
              "      <td>13.0</td>\n",
              "      <td>ndd</td>\n",
              "      <td>unique</td>\n",
              "      <td>uninterrupted</td>\n",
              "      <td>A</td>\n",
              "      <td>1</td>\n",
              "      <td>2</td>\n",
              "      <td>NaN</td>\n",
              "    </tr>\n",
              "    <tr>\n",
              "      <th>4173</th>\n",
              "      <td>driver25</td>\n",
              "      <td>2017-01-15 10:08:00</td>\n",
              "      <td>2017-01-15 10:12:00</td>\n",
              "      <td>4.0</td>\n",
              "      <td>Other</td>\n",
              "      <td>3.0</td>\n",
              "      <td>13.0</td>\n",
              "      <td>ndd</td>\n",
              "      <td>unique</td>\n",
              "      <td>uninterrupted</td>\n",
              "      <td>A</td>\n",
              "      <td>1</td>\n",
              "      <td>2</td>\n",
              "      <td>NaN</td>\n",
              "    </tr>\n",
              "    <tr>\n",
              "      <th>4174</th>\n",
              "      <td>driver25</td>\n",
              "      <td>2017-01-15 10:12:00</td>\n",
              "      <td>2017-01-16 08:42:00</td>\n",
              "      <td>1350.0</td>\n",
              "      <td>Break</td>\n",
              "      <td>3.0</td>\n",
              "      <td>13.0</td>\n",
              "      <td>ndd</td>\n",
              "      <td>unique</td>\n",
              "      <td>uninterrupted</td>\n",
              "      <td>DR_T1</td>\n",
              "      <td>1</td>\n",
              "      <td>2</td>\n",
              "      <td>NaN</td>\n",
              "    </tr>\n",
              "  </tbody>\n",
              "</table>\n",
              "<p>4175 rows × 14 columns</p>\n",
              "</div>"
            ],
            "text/plain": [
              "        Driver       DateTimeStart         DateTimeEnd  ...  Legal Cluster  ZenoInfo\n",
              "0      driver1 2017-02-01 17:59:00 2017-02-01 18:13:00  ...      1       2       NaN\n",
              "1      driver1 2017-02-01 18:13:00 2017-02-01 18:16:00  ...      1       2       NaN\n",
              "2      driver1 2017-02-01 18:16:00 2017-02-01 18:18:00  ...      1       2       NaN\n",
              "3      driver1 2017-02-01 18:18:00 2017-02-01 18:20:00  ...      1       2       NaN\n",
              "4      driver1 2017-02-01 18:20:00 2017-02-01 18:43:00  ...      1       2       NaN\n",
              "...        ...                 ...                 ...  ...    ...     ...       ...\n",
              "4170  driver25 2017-01-15 09:56:00 2017-01-15 09:59:00  ...      1       2       NaN\n",
              "4171  driver25 2017-01-15 09:59:00 2017-01-15 10:01:00  ...      1       2       NaN\n",
              "4172  driver25 2017-01-15 10:01:00 2017-01-15 10:08:00  ...      1       2       NaN\n",
              "4173  driver25 2017-01-15 10:08:00 2017-01-15 10:12:00  ...      1       2       NaN\n",
              "4174  driver25 2017-01-15 10:12:00 2017-01-16 08:42:00  ...      1       2       NaN\n",
              "\n",
              "[4175 rows x 14 columns]"
            ]
          },
          "metadata": {},
          "execution_count": 120
        }
      ]
    },
    {
      "cell_type": "code",
      "metadata": {
        "colab": {
          "base_uri": "https://localhost:8080/",
          "height": 17
        },
        "id": "aj0E7fiUrXLo",
        "outputId": "cb5ccc46-2a61-46bc-f8b9-d6fdb4594f04"
      },
      "source": [
        "# Save as CSV\n",
        "df_out.to_csv(\"log-clustering.csv\", sep=\"\\t\", index=False)\n",
        "\n",
        "# Download\n",
        "from google.colab import files\n",
        "files.download(\"log-clustering.csv\")"
      ],
      "execution_count": 121,
      "outputs": [
        {
          "output_type": "display_data",
          "data": {
            "application/javascript": [
              "\n",
              "    async function download(id, filename, size) {\n",
              "      if (!google.colab.kernel.accessAllowed) {\n",
              "        return;\n",
              "      }\n",
              "      const div = document.createElement('div');\n",
              "      const label = document.createElement('label');\n",
              "      label.textContent = `Downloading \"${filename}\": `;\n",
              "      div.appendChild(label);\n",
              "      const progress = document.createElement('progress');\n",
              "      progress.max = size;\n",
              "      div.appendChild(progress);\n",
              "      document.body.appendChild(div);\n",
              "\n",
              "      const buffers = [];\n",
              "      let downloaded = 0;\n",
              "\n",
              "      const channel = await google.colab.kernel.comms.open(id);\n",
              "      // Send a message to notify the kernel that we're ready.\n",
              "      channel.send({})\n",
              "\n",
              "      for await (const message of channel.messages) {\n",
              "        // Send a message to notify the kernel that we're ready.\n",
              "        channel.send({})\n",
              "        if (message.buffers) {\n",
              "          for (const buffer of message.buffers) {\n",
              "            buffers.push(buffer);\n",
              "            downloaded += buffer.byteLength;\n",
              "            progress.value = downloaded;\n",
              "          }\n",
              "        }\n",
              "      }\n",
              "      const blob = new Blob(buffers, {type: 'application/binary'});\n",
              "      const a = document.createElement('a');\n",
              "      a.href = window.URL.createObjectURL(blob);\n",
              "      a.download = filename;\n",
              "      div.appendChild(a);\n",
              "      a.click();\n",
              "      div.remove();\n",
              "    }\n",
              "  "
            ],
            "text/plain": [
              "<IPython.core.display.Javascript object>"
            ]
          },
          "metadata": {}
        },
        {
          "output_type": "display_data",
          "data": {
            "application/javascript": [
              "download(\"download_5b5b587d-4fc0-4e71-8e3d-2fd0b428230f\", \"log-clustering.csv\", 401431)"
            ],
            "text/plain": [
              "<IPython.core.display.Javascript object>"
            ]
          },
          "metadata": {}
        }
      ]
    },
    {
      "cell_type": "code",
      "metadata": {
        "colab": {
          "base_uri": "https://localhost:8080/",
          "height": 17
        },
        "id": "s4EgOPbfwPLO",
        "outputId": "c96c80ae-36c2-4246-bcff-9cbc4c2eab88"
      },
      "source": [
        "# Save each cluster separated\n",
        "groups = df_out.groupby(['Cluster'], sort=False)\n",
        "\n",
        "# Add clusters to log\n",
        "for name, group in groups:\n",
        "  cluster = group['Cluster'].to_numpy()[0]\n",
        "  \n",
        "  path = \"log-clustering-c{}.csv\".format(cluster)\n",
        "  group.to_csv(path, sep=\"\\t\", index=False)\n",
        "  files.download(path)"
      ],
      "execution_count": null,
      "outputs": [
        {
          "output_type": "display_data",
          "data": {
            "application/javascript": [
              "\n",
              "    async function download(id, filename, size) {\n",
              "      if (!google.colab.kernel.accessAllowed) {\n",
              "        return;\n",
              "      }\n",
              "      const div = document.createElement('div');\n",
              "      const label = document.createElement('label');\n",
              "      label.textContent = `Downloading \"${filename}\": `;\n",
              "      div.appendChild(label);\n",
              "      const progress = document.createElement('progress');\n",
              "      progress.max = size;\n",
              "      div.appendChild(progress);\n",
              "      document.body.appendChild(div);\n",
              "\n",
              "      const buffers = [];\n",
              "      let downloaded = 0;\n",
              "\n",
              "      const channel = await google.colab.kernel.comms.open(id);\n",
              "      // Send a message to notify the kernel that we're ready.\n",
              "      channel.send({})\n",
              "\n",
              "      for await (const message of channel.messages) {\n",
              "        // Send a message to notify the kernel that we're ready.\n",
              "        channel.send({})\n",
              "        if (message.buffers) {\n",
              "          for (const buffer of message.buffers) {\n",
              "            buffers.push(buffer);\n",
              "            downloaded += buffer.byteLength;\n",
              "            progress.value = downloaded;\n",
              "          }\n",
              "        }\n",
              "      }\n",
              "      const blob = new Blob(buffers, {type: 'application/binary'});\n",
              "      const a = document.createElement('a');\n",
              "      a.href = window.URL.createObjectURL(blob);\n",
              "      a.download = filename;\n",
              "      div.appendChild(a);\n",
              "      a.click();\n",
              "      div.remove();\n",
              "    }\n",
              "  "
            ],
            "text/plain": [
              "<IPython.core.display.Javascript object>"
            ]
          },
          "metadata": {}
        },
        {
          "output_type": "display_data",
          "data": {
            "application/javascript": [
              "download(\"download_47e1ae0d-e7c8-4ef4-acf6-7d9a0329f679\", \"log-clustering-c0.csv\", 90117)"
            ],
            "text/plain": [
              "<IPython.core.display.Javascript object>"
            ]
          },
          "metadata": {}
        },
        {
          "output_type": "display_data",
          "data": {
            "application/javascript": [
              "\n",
              "    async function download(id, filename, size) {\n",
              "      if (!google.colab.kernel.accessAllowed) {\n",
              "        return;\n",
              "      }\n",
              "      const div = document.createElement('div');\n",
              "      const label = document.createElement('label');\n",
              "      label.textContent = `Downloading \"${filename}\": `;\n",
              "      div.appendChild(label);\n",
              "      const progress = document.createElement('progress');\n",
              "      progress.max = size;\n",
              "      div.appendChild(progress);\n",
              "      document.body.appendChild(div);\n",
              "\n",
              "      const buffers = [];\n",
              "      let downloaded = 0;\n",
              "\n",
              "      const channel = await google.colab.kernel.comms.open(id);\n",
              "      // Send a message to notify the kernel that we're ready.\n",
              "      channel.send({})\n",
              "\n",
              "      for await (const message of channel.messages) {\n",
              "        // Send a message to notify the kernel that we're ready.\n",
              "        channel.send({})\n",
              "        if (message.buffers) {\n",
              "          for (const buffer of message.buffers) {\n",
              "            buffers.push(buffer);\n",
              "            downloaded += buffer.byteLength;\n",
              "            progress.value = downloaded;\n",
              "          }\n",
              "        }\n",
              "      }\n",
              "      const blob = new Blob(buffers, {type: 'application/binary'});\n",
              "      const a = document.createElement('a');\n",
              "      a.href = window.URL.createObjectURL(blob);\n",
              "      a.download = filename;\n",
              "      div.appendChild(a);\n",
              "      a.click();\n",
              "      div.remove();\n",
              "    }\n",
              "  "
            ],
            "text/plain": [
              "<IPython.core.display.Javascript object>"
            ]
          },
          "metadata": {}
        },
        {
          "output_type": "display_data",
          "data": {
            "application/javascript": [
              "download(\"download_6f85b0a9-4e3e-4193-99b7-a68437294d5a\", \"log-clustering-c5.csv\", 20695)"
            ],
            "text/plain": [
              "<IPython.core.display.Javascript object>"
            ]
          },
          "metadata": {}
        },
        {
          "output_type": "display_data",
          "data": {
            "application/javascript": [
              "\n",
              "    async function download(id, filename, size) {\n",
              "      if (!google.colab.kernel.accessAllowed) {\n",
              "        return;\n",
              "      }\n",
              "      const div = document.createElement('div');\n",
              "      const label = document.createElement('label');\n",
              "      label.textContent = `Downloading \"${filename}\": `;\n",
              "      div.appendChild(label);\n",
              "      const progress = document.createElement('progress');\n",
              "      progress.max = size;\n",
              "      div.appendChild(progress);\n",
              "      document.body.appendChild(div);\n",
              "\n",
              "      const buffers = [];\n",
              "      let downloaded = 0;\n",
              "\n",
              "      const channel = await google.colab.kernel.comms.open(id);\n",
              "      // Send a message to notify the kernel that we're ready.\n",
              "      channel.send({})\n",
              "\n",
              "      for await (const message of channel.messages) {\n",
              "        // Send a message to notify the kernel that we're ready.\n",
              "        channel.send({})\n",
              "        if (message.buffers) {\n",
              "          for (const buffer of message.buffers) {\n",
              "            buffers.push(buffer);\n",
              "            downloaded += buffer.byteLength;\n",
              "            progress.value = downloaded;\n",
              "          }\n",
              "        }\n",
              "      }\n",
              "      const blob = new Blob(buffers, {type: 'application/binary'});\n",
              "      const a = document.createElement('a');\n",
              "      a.href = window.URL.createObjectURL(blob);\n",
              "      a.download = filename;\n",
              "      div.appendChild(a);\n",
              "      a.click();\n",
              "      div.remove();\n",
              "    }\n",
              "  "
            ],
            "text/plain": [
              "<IPython.core.display.Javascript object>"
            ]
          },
          "metadata": {}
        },
        {
          "output_type": "display_data",
          "data": {
            "application/javascript": [
              "download(\"download_f5f1d9f3-75db-4f93-b1d5-659b5156d403\", \"log-clustering-c3.csv\", 28050)"
            ],
            "text/plain": [
              "<IPython.core.display.Javascript object>"
            ]
          },
          "metadata": {}
        },
        {
          "output_type": "display_data",
          "data": {
            "application/javascript": [
              "\n",
              "    async function download(id, filename, size) {\n",
              "      if (!google.colab.kernel.accessAllowed) {\n",
              "        return;\n",
              "      }\n",
              "      const div = document.createElement('div');\n",
              "      const label = document.createElement('label');\n",
              "      label.textContent = `Downloading \"${filename}\": `;\n",
              "      div.appendChild(label);\n",
              "      const progress = document.createElement('progress');\n",
              "      progress.max = size;\n",
              "      div.appendChild(progress);\n",
              "      document.body.appendChild(div);\n",
              "\n",
              "      const buffers = [];\n",
              "      let downloaded = 0;\n",
              "\n",
              "      const channel = await google.colab.kernel.comms.open(id);\n",
              "      // Send a message to notify the kernel that we're ready.\n",
              "      channel.send({})\n",
              "\n",
              "      for await (const message of channel.messages) {\n",
              "        // Send a message to notify the kernel that we're ready.\n",
              "        channel.send({})\n",
              "        if (message.buffers) {\n",
              "          for (const buffer of message.buffers) {\n",
              "            buffers.push(buffer);\n",
              "            downloaded += buffer.byteLength;\n",
              "            progress.value = downloaded;\n",
              "          }\n",
              "        }\n",
              "      }\n",
              "      const blob = new Blob(buffers, {type: 'application/binary'});\n",
              "      const a = document.createElement('a');\n",
              "      a.href = window.URL.createObjectURL(blob);\n",
              "      a.download = filename;\n",
              "      div.appendChild(a);\n",
              "      a.click();\n",
              "      div.remove();\n",
              "    }\n",
              "  "
            ],
            "text/plain": [
              "<IPython.core.display.Javascript object>"
            ]
          },
          "metadata": {}
        },
        {
          "output_type": "display_data",
          "data": {
            "application/javascript": [
              "download(\"download_48fe90b9-585f-4107-a459-18eddccf3823\", \"log-clustering-c1.csv\", 53940)"
            ],
            "text/plain": [
              "<IPython.core.display.Javascript object>"
            ]
          },
          "metadata": {}
        },
        {
          "output_type": "display_data",
          "data": {
            "application/javascript": [
              "\n",
              "    async function download(id, filename, size) {\n",
              "      if (!google.colab.kernel.accessAllowed) {\n",
              "        return;\n",
              "      }\n",
              "      const div = document.createElement('div');\n",
              "      const label = document.createElement('label');\n",
              "      label.textContent = `Downloading \"${filename}\": `;\n",
              "      div.appendChild(label);\n",
              "      const progress = document.createElement('progress');\n",
              "      progress.max = size;\n",
              "      div.appendChild(progress);\n",
              "      document.body.appendChild(div);\n",
              "\n",
              "      const buffers = [];\n",
              "      let downloaded = 0;\n",
              "\n",
              "      const channel = await google.colab.kernel.comms.open(id);\n",
              "      // Send a message to notify the kernel that we're ready.\n",
              "      channel.send({})\n",
              "\n",
              "      for await (const message of channel.messages) {\n",
              "        // Send a message to notify the kernel that we're ready.\n",
              "        channel.send({})\n",
              "        if (message.buffers) {\n",
              "          for (const buffer of message.buffers) {\n",
              "            buffers.push(buffer);\n",
              "            downloaded += buffer.byteLength;\n",
              "            progress.value = downloaded;\n",
              "          }\n",
              "        }\n",
              "      }\n",
              "      const blob = new Blob(buffers, {type: 'application/binary'});\n",
              "      const a = document.createElement('a');\n",
              "      a.href = window.URL.createObjectURL(blob);\n",
              "      a.download = filename;\n",
              "      div.appendChild(a);\n",
              "      a.click();\n",
              "      div.remove();\n",
              "    }\n",
              "  "
            ],
            "text/plain": [
              "<IPython.core.display.Javascript object>"
            ]
          },
          "metadata": {}
        },
        {
          "output_type": "display_data",
          "data": {
            "application/javascript": [
              "download(\"download_721f11b6-fe24-4aa2-92e8-cce06a19682d\", \"log-clustering-c4.csv\", 42733)"
            ],
            "text/plain": [
              "<IPython.core.display.Javascript object>"
            ]
          },
          "metadata": {}
        },
        {
          "output_type": "display_data",
          "data": {
            "application/javascript": [
              "\n",
              "    async function download(id, filename, size) {\n",
              "      if (!google.colab.kernel.accessAllowed) {\n",
              "        return;\n",
              "      }\n",
              "      const div = document.createElement('div');\n",
              "      const label = document.createElement('label');\n",
              "      label.textContent = `Downloading \"${filename}\": `;\n",
              "      div.appendChild(label);\n",
              "      const progress = document.createElement('progress');\n",
              "      progress.max = size;\n",
              "      div.appendChild(progress);\n",
              "      document.body.appendChild(div);\n",
              "\n",
              "      const buffers = [];\n",
              "      let downloaded = 0;\n",
              "\n",
              "      const channel = await google.colab.kernel.comms.open(id);\n",
              "      // Send a message to notify the kernel that we're ready.\n",
              "      channel.send({})\n",
              "\n",
              "      for await (const message of channel.messages) {\n",
              "        // Send a message to notify the kernel that we're ready.\n",
              "        channel.send({})\n",
              "        if (message.buffers) {\n",
              "          for (const buffer of message.buffers) {\n",
              "            buffers.push(buffer);\n",
              "            downloaded += buffer.byteLength;\n",
              "            progress.value = downloaded;\n",
              "          }\n",
              "        }\n",
              "      }\n",
              "      const blob = new Blob(buffers, {type: 'application/binary'});\n",
              "      const a = document.createElement('a');\n",
              "      a.href = window.URL.createObjectURL(blob);\n",
              "      a.download = filename;\n",
              "      div.appendChild(a);\n",
              "      a.click();\n",
              "      div.remove();\n",
              "    }\n",
              "  "
            ],
            "text/plain": [
              "<IPython.core.display.Javascript object>"
            ]
          },
          "metadata": {}
        },
        {
          "output_type": "display_data",
          "data": {
            "application/javascript": [
              "download(\"download_672e02b8-a7b5-4e2b-9e02-f54485e0deea\", \"log-clustering-c9.csv\", 21601)"
            ],
            "text/plain": [
              "<IPython.core.display.Javascript object>"
            ]
          },
          "metadata": {}
        },
        {
          "output_type": "display_data",
          "data": {
            "application/javascript": [
              "\n",
              "    async function download(id, filename, size) {\n",
              "      if (!google.colab.kernel.accessAllowed) {\n",
              "        return;\n",
              "      }\n",
              "      const div = document.createElement('div');\n",
              "      const label = document.createElement('label');\n",
              "      label.textContent = `Downloading \"${filename}\": `;\n",
              "      div.appendChild(label);\n",
              "      const progress = document.createElement('progress');\n",
              "      progress.max = size;\n",
              "      div.appendChild(progress);\n",
              "      document.body.appendChild(div);\n",
              "\n",
              "      const buffers = [];\n",
              "      let downloaded = 0;\n",
              "\n",
              "      const channel = await google.colab.kernel.comms.open(id);\n",
              "      // Send a message to notify the kernel that we're ready.\n",
              "      channel.send({})\n",
              "\n",
              "      for await (const message of channel.messages) {\n",
              "        // Send a message to notify the kernel that we're ready.\n",
              "        channel.send({})\n",
              "        if (message.buffers) {\n",
              "          for (const buffer of message.buffers) {\n",
              "            buffers.push(buffer);\n",
              "            downloaded += buffer.byteLength;\n",
              "            progress.value = downloaded;\n",
              "          }\n",
              "        }\n",
              "      }\n",
              "      const blob = new Blob(buffers, {type: 'application/binary'});\n",
              "      const a = document.createElement('a');\n",
              "      a.href = window.URL.createObjectURL(blob);\n",
              "      a.download = filename;\n",
              "      div.appendChild(a);\n",
              "      a.click();\n",
              "      div.remove();\n",
              "    }\n",
              "  "
            ],
            "text/plain": [
              "<IPython.core.display.Javascript object>"
            ]
          },
          "metadata": {}
        },
        {
          "output_type": "display_data",
          "data": {
            "application/javascript": [
              "download(\"download_4a7d07f0-dab8-4a81-92e6-31ff44392446\", \"log-clustering-c6.csv\", 28667)"
            ],
            "text/plain": [
              "<IPython.core.display.Javascript object>"
            ]
          },
          "metadata": {}
        },
        {
          "output_type": "display_data",
          "data": {
            "application/javascript": [
              "\n",
              "    async function download(id, filename, size) {\n",
              "      if (!google.colab.kernel.accessAllowed) {\n",
              "        return;\n",
              "      }\n",
              "      const div = document.createElement('div');\n",
              "      const label = document.createElement('label');\n",
              "      label.textContent = `Downloading \"${filename}\": `;\n",
              "      div.appendChild(label);\n",
              "      const progress = document.createElement('progress');\n",
              "      progress.max = size;\n",
              "      div.appendChild(progress);\n",
              "      document.body.appendChild(div);\n",
              "\n",
              "      const buffers = [];\n",
              "      let downloaded = 0;\n",
              "\n",
              "      const channel = await google.colab.kernel.comms.open(id);\n",
              "      // Send a message to notify the kernel that we're ready.\n",
              "      channel.send({})\n",
              "\n",
              "      for await (const message of channel.messages) {\n",
              "        // Send a message to notify the kernel that we're ready.\n",
              "        channel.send({})\n",
              "        if (message.buffers) {\n",
              "          for (const buffer of message.buffers) {\n",
              "            buffers.push(buffer);\n",
              "            downloaded += buffer.byteLength;\n",
              "            progress.value = downloaded;\n",
              "          }\n",
              "        }\n",
              "      }\n",
              "      const blob = new Blob(buffers, {type: 'application/binary'});\n",
              "      const a = document.createElement('a');\n",
              "      a.href = window.URL.createObjectURL(blob);\n",
              "      a.download = filename;\n",
              "      div.appendChild(a);\n",
              "      a.click();\n",
              "      div.remove();\n",
              "    }\n",
              "  "
            ],
            "text/plain": [
              "<IPython.core.display.Javascript object>"
            ]
          },
          "metadata": {}
        },
        {
          "output_type": "display_data",
          "data": {
            "application/javascript": [
              "download(\"download_733e911b-9136-4f19-bbad-898b5adef19f\", \"log-clustering-c7.csv\", 54569)"
            ],
            "text/plain": [
              "<IPython.core.display.Javascript object>"
            ]
          },
          "metadata": {}
        },
        {
          "output_type": "display_data",
          "data": {
            "application/javascript": [
              "\n",
              "    async function download(id, filename, size) {\n",
              "      if (!google.colab.kernel.accessAllowed) {\n",
              "        return;\n",
              "      }\n",
              "      const div = document.createElement('div');\n",
              "      const label = document.createElement('label');\n",
              "      label.textContent = `Downloading \"${filename}\": `;\n",
              "      div.appendChild(label);\n",
              "      const progress = document.createElement('progress');\n",
              "      progress.max = size;\n",
              "      div.appendChild(progress);\n",
              "      document.body.appendChild(div);\n",
              "\n",
              "      const buffers = [];\n",
              "      let downloaded = 0;\n",
              "\n",
              "      const channel = await google.colab.kernel.comms.open(id);\n",
              "      // Send a message to notify the kernel that we're ready.\n",
              "      channel.send({})\n",
              "\n",
              "      for await (const message of channel.messages) {\n",
              "        // Send a message to notify the kernel that we're ready.\n",
              "        channel.send({})\n",
              "        if (message.buffers) {\n",
              "          for (const buffer of message.buffers) {\n",
              "            buffers.push(buffer);\n",
              "            downloaded += buffer.byteLength;\n",
              "            progress.value = downloaded;\n",
              "          }\n",
              "        }\n",
              "      }\n",
              "      const blob = new Blob(buffers, {type: 'application/binary'});\n",
              "      const a = document.createElement('a');\n",
              "      a.href = window.URL.createObjectURL(blob);\n",
              "      a.download = filename;\n",
              "      div.appendChild(a);\n",
              "      a.click();\n",
              "      div.remove();\n",
              "    }\n",
              "  "
            ],
            "text/plain": [
              "<IPython.core.display.Javascript object>"
            ]
          },
          "metadata": {}
        },
        {
          "output_type": "display_data",
          "data": {
            "application/javascript": [
              "download(\"download_8ba08f8c-0a1d-4143-a1b6-04860404226d\", \"log-clustering-c2.csv\", 38896)"
            ],
            "text/plain": [
              "<IPython.core.display.Javascript object>"
            ]
          },
          "metadata": {}
        },
        {
          "output_type": "display_data",
          "data": {
            "application/javascript": [
              "\n",
              "    async function download(id, filename, size) {\n",
              "      if (!google.colab.kernel.accessAllowed) {\n",
              "        return;\n",
              "      }\n",
              "      const div = document.createElement('div');\n",
              "      const label = document.createElement('label');\n",
              "      label.textContent = `Downloading \"${filename}\": `;\n",
              "      div.appendChild(label);\n",
              "      const progress = document.createElement('progress');\n",
              "      progress.max = size;\n",
              "      div.appendChild(progress);\n",
              "      document.body.appendChild(div);\n",
              "\n",
              "      const buffers = [];\n",
              "      let downloaded = 0;\n",
              "\n",
              "      const channel = await google.colab.kernel.comms.open(id);\n",
              "      // Send a message to notify the kernel that we're ready.\n",
              "      channel.send({})\n",
              "\n",
              "      for await (const message of channel.messages) {\n",
              "        // Send a message to notify the kernel that we're ready.\n",
              "        channel.send({})\n",
              "        if (message.buffers) {\n",
              "          for (const buffer of message.buffers) {\n",
              "            buffers.push(buffer);\n",
              "            downloaded += buffer.byteLength;\n",
              "            progress.value = downloaded;\n",
              "          }\n",
              "        }\n",
              "      }\n",
              "      const blob = new Blob(buffers, {type: 'application/binary'});\n",
              "      const a = document.createElement('a');\n",
              "      a.href = window.URL.createObjectURL(blob);\n",
              "      a.download = filename;\n",
              "      div.appendChild(a);\n",
              "      a.click();\n",
              "      div.remove();\n",
              "    }\n",
              "  "
            ],
            "text/plain": [
              "<IPython.core.display.Javascript object>"
            ]
          },
          "metadata": {}
        },
        {
          "output_type": "display_data",
          "data": {
            "application/javascript": [
              "download(\"download_e9f41a39-38ab-4e46-8b0b-e7be2e852ae9\", \"log-clustering-c8.csv\", 23207)"
            ],
            "text/plain": [
              "<IPython.core.display.Javascript object>"
            ]
          },
          "metadata": {}
        }
      ]
    },
    {
      "cell_type": "code",
      "metadata": {
        "colab": {
          "base_uri": "https://localhost:8080/",
          "height": 17
        },
        "id": "BwATYT8p-_P4",
        "outputId": "33769108-c50b-4672-fd26-fa49b081d03c"
      },
      "source": [
        "# Save d2v centroids\n",
        "decoded_centroids_d2v.to_csv(\"log-clustering-centroids.csv\", sep=\"\\t\", index=False)\n",
        "files.download(\"log-clustering-centroids.csv\")"
      ],
      "execution_count": 118,
      "outputs": [
        {
          "output_type": "display_data",
          "data": {
            "application/javascript": [
              "\n",
              "    async function download(id, filename, size) {\n",
              "      if (!google.colab.kernel.accessAllowed) {\n",
              "        return;\n",
              "      }\n",
              "      const div = document.createElement('div');\n",
              "      const label = document.createElement('label');\n",
              "      label.textContent = `Downloading \"${filename}\": `;\n",
              "      div.appendChild(label);\n",
              "      const progress = document.createElement('progress');\n",
              "      progress.max = size;\n",
              "      div.appendChild(progress);\n",
              "      document.body.appendChild(div);\n",
              "\n",
              "      const buffers = [];\n",
              "      let downloaded = 0;\n",
              "\n",
              "      const channel = await google.colab.kernel.comms.open(id);\n",
              "      // Send a message to notify the kernel that we're ready.\n",
              "      channel.send({})\n",
              "\n",
              "      for await (const message of channel.messages) {\n",
              "        // Send a message to notify the kernel that we're ready.\n",
              "        channel.send({})\n",
              "        if (message.buffers) {\n",
              "          for (const buffer of message.buffers) {\n",
              "            buffers.push(buffer);\n",
              "            downloaded += buffer.byteLength;\n",
              "            progress.value = downloaded;\n",
              "          }\n",
              "        }\n",
              "      }\n",
              "      const blob = new Blob(buffers, {type: 'application/binary'});\n",
              "      const a = document.createElement('a');\n",
              "      a.href = window.URL.createObjectURL(blob);\n",
              "      a.download = filename;\n",
              "      div.appendChild(a);\n",
              "      a.click();\n",
              "      div.remove();\n",
              "    }\n",
              "  "
            ],
            "text/plain": [
              "<IPython.core.display.Javascript object>"
            ]
          },
          "metadata": {}
        },
        {
          "output_type": "display_data",
          "data": {
            "application/javascript": [
              "download(\"download_30649fbd-0105-414d-867a-17b613b50880\", \"log-clustering-centroids.csv\", 5544)"
            ],
            "text/plain": [
              "<IPython.core.display.Javascript object>"
            ]
          },
          "metadata": {}
        }
      ]
    }
  ]
}